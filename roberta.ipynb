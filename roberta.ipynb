{
 "cells": [
  {
   "cell_type": "code",
   "execution_count": 1,
   "metadata": {},
   "outputs": [],
   "source": [
    "%load_ext autoreload\n",
    "%autoreload 2"
   ]
  },
  {
   "cell_type": "code",
   "execution_count": 2,
   "metadata": {},
   "outputs": [],
   "source": [
    "import argparse\n",
    "import torch\n",
    "\n",
    "from data.data_utils import load_url_dataset"
   ]
  },
  {
   "cell_type": "code",
   "execution_count": 3,
   "metadata": {},
   "outputs": [],
   "source": [
    "# Load the dataset\n",
    "num_workers = 2\n",
    "batch_size = 4\n",
    "splits_directory = \"data/splits\"\n",
    "\n",
    "(trainloader, validloader, testloader), classes = load_url_dataset(splits_directory, batch_size, num_workers=num_workers)"
   ]
  },
  {
   "cell_type": "code",
   "execution_count": 4,
   "metadata": {},
   "outputs": [
    {
     "name": "stderr",
     "output_type": "stream",
     "text": [
      "Using cache found in /home/local/USHERBROOKE/levj1404/.cache/torch/hub/pytorch_fairseq_main\n",
      "INFO:fairseq.tasks.text_to_speech:Please install tensorboardX: pip install tensorboardX\n",
      "INFO:root:running build_ext\n",
      "/home/local/USHERBROOKE/levj1404/miniconda3/envs/nlp/lib/python3.10/site-packages/torch/utils/cpp_extension.py:500: UserWarning: Attempted to use ninja as the BuildExtension backend but we could not find ninja.. Falling back to using the slow distutils backend.\n",
      "  warnings.warn(msg.format('we could not find ninja.'))\n",
      "INFO:root:building 'fairseq.libbleu' extension\n",
      "INFO:root:creating build\n",
      "INFO:root:creating build/temp.linux-x86_64-cpython-310\n",
      "INFO:root:creating build/temp.linux-x86_64-cpython-310/fairseq\n",
      "INFO:root:creating build/temp.linux-x86_64-cpython-310/fairseq/clib\n",
      "INFO:root:creating build/temp.linux-x86_64-cpython-310/fairseq/clib/libbleu\n",
      "INFO:root:gcc -pthread -B /home/local/USHERBROOKE/levj1404/miniconda3/envs/nlp/compiler_compat -Wno-unused-result -Wsign-compare -DNDEBUG -fwrapv -O2 -Wall -fPIC -O2 -isystem /home/local/USHERBROOKE/levj1404/miniconda3/envs/nlp/include -fPIC -O2 -isystem /home/local/USHERBROOKE/levj1404/miniconda3/envs/nlp/include -fPIC -I/home/local/USHERBROOKE/levj1404/miniconda3/envs/nlp/include/python3.10 -c fairseq/clib/libbleu/libbleu.cpp -o build/temp.linux-x86_64-cpython-310/fairseq/clib/libbleu/libbleu.o -std=c++11 -O3 -DTORCH_API_INCLUDE_EXTENSION_H -DPYBIND11_COMPILER_TYPE=\\\"_gcc\\\" -DPYBIND11_STDLIB=\\\"_libstdcpp\\\" -DPYBIND11_BUILD_ABI=\\\"_cxxabi1011\\\" -DTORCH_EXTENSION_NAME=libbleu -D_GLIBCXX_USE_CXX11_ABI=0\n",
      "INFO:root:gcc -pthread -B /home/local/USHERBROOKE/levj1404/miniconda3/envs/nlp/compiler_compat -Wno-unused-result -Wsign-compare -DNDEBUG -fwrapv -O2 -Wall -fPIC -O2 -isystem /home/local/USHERBROOKE/levj1404/miniconda3/envs/nlp/include -fPIC -O2 -isystem /home/local/USHERBROOKE/levj1404/miniconda3/envs/nlp/include -fPIC -I/home/local/USHERBROOKE/levj1404/miniconda3/envs/nlp/include/python3.10 -c fairseq/clib/libbleu/module.cpp -o build/temp.linux-x86_64-cpython-310/fairseq/clib/libbleu/module.o -std=c++11 -O3 -DTORCH_API_INCLUDE_EXTENSION_H -DPYBIND11_COMPILER_TYPE=\\\"_gcc\\\" -DPYBIND11_STDLIB=\\\"_libstdcpp\\\" -DPYBIND11_BUILD_ABI=\\\"_cxxabi1011\\\" -DTORCH_EXTENSION_NAME=libbleu -D_GLIBCXX_USE_CXX11_ABI=0\n",
      "INFO:root:creating build/lib.linux-x86_64-cpython-310\n",
      "INFO:root:creating build/lib.linux-x86_64-cpython-310/fairseq\n",
      "INFO:root:g++ -pthread -B /home/local/USHERBROOKE/levj1404/miniconda3/envs/nlp/compiler_compat -shared -Wl,-rpath,/home/local/USHERBROOKE/levj1404/miniconda3/envs/nlp/lib -Wl,-rpath-link,/home/local/USHERBROOKE/levj1404/miniconda3/envs/nlp/lib -L/home/local/USHERBROOKE/levj1404/miniconda3/envs/nlp/lib -Wl,-rpath,/home/local/USHERBROOKE/levj1404/miniconda3/envs/nlp/lib -Wl,-rpath-link,/home/local/USHERBROOKE/levj1404/miniconda3/envs/nlp/lib -L/home/local/USHERBROOKE/levj1404/miniconda3/envs/nlp/lib build/temp.linux-x86_64-cpython-310/fairseq/clib/libbleu/libbleu.o build/temp.linux-x86_64-cpython-310/fairseq/clib/libbleu/module.o -o build/lib.linux-x86_64-cpython-310/fairseq/libbleu.cpython-310-x86_64-linux-gnu.so\n"
     ]
    },
    {
     "name": "stdout",
     "output_type": "stream",
     "text": [
      "Compiling fairseq/data/data_utils_fast.pyx because it changed.\n",
      "[1/1] Cythonizing fairseq/data/data_utils_fast.pyx\n"
     ]
    },
    {
     "name": "stderr",
     "output_type": "stream",
     "text": [
      "INFO:root:building 'fairseq.data.data_utils_fast' extension\n",
      "INFO:root:creating build/temp.linux-x86_64-cpython-310/fairseq/data\n",
      "INFO:root:gcc -pthread -B /home/local/USHERBROOKE/levj1404/miniconda3/envs/nlp/compiler_compat -Wno-unused-result -Wsign-compare -DNDEBUG -fwrapv -O2 -Wall -fPIC -O2 -isystem /home/local/USHERBROOKE/levj1404/miniconda3/envs/nlp/include -fPIC -O2 -isystem /home/local/USHERBROOKE/levj1404/miniconda3/envs/nlp/include -fPIC -I/home/local/USHERBROOKE/levj1404/miniconda3/envs/nlp/lib/python3.10/site-packages/numpy/core/include -I/home/local/USHERBROOKE/levj1404/miniconda3/envs/nlp/lib/python3.10/site-packages/numpy/core/include -I/home/local/USHERBROOKE/levj1404/miniconda3/envs/nlp/include/python3.10 -c fairseq/data/data_utils_fast.cpp -o build/temp.linux-x86_64-cpython-310/fairseq/data/data_utils_fast.o -std=c++11 -O3 -DTORCH_API_INCLUDE_EXTENSION_H -DPYBIND11_COMPILER_TYPE=\\\"_gcc\\\" -DPYBIND11_STDLIB=\\\"_libstdcpp\\\" -DPYBIND11_BUILD_ABI=\\\"_cxxabi1011\\\" -DTORCH_EXTENSION_NAME=data_utils_fast -D_GLIBCXX_USE_CXX11_ABI=0\n",
      "In file included from /home/local/USHERBROOKE/levj1404/miniconda3/envs/nlp/lib/python3.10/site-packages/numpy/core/include/numpy/ndarraytypes.h:1929,\n",
      "                 from /home/local/USHERBROOKE/levj1404/miniconda3/envs/nlp/lib/python3.10/site-packages/numpy/core/include/numpy/ndarrayobject.h:12,\n",
      "                 from /home/local/USHERBROOKE/levj1404/miniconda3/envs/nlp/lib/python3.10/site-packages/numpy/core/include/numpy/arrayobject.h:5,\n",
      "                 from fairseq/data/data_utils_fast.cpp:1243:\n",
      "/home/local/USHERBROOKE/levj1404/miniconda3/envs/nlp/lib/python3.10/site-packages/numpy/core/include/numpy/npy_1_7_deprecated_api.h:17:2: warning: #warning \"Using deprecated NumPy API, disable it with \" \"#define NPY_NO_DEPRECATED_API NPY_1_7_API_VERSION\" [-Wcpp]\n",
      "   17 | #warning \"Using deprecated NumPy API, disable it with \" \\\n",
      "      |  ^~~~~~~\n",
      "INFO:root:creating build/lib.linux-x86_64-cpython-310/fairseq/data\n",
      "INFO:root:g++ -pthread -B /home/local/USHERBROOKE/levj1404/miniconda3/envs/nlp/compiler_compat -shared -Wl,-rpath,/home/local/USHERBROOKE/levj1404/miniconda3/envs/nlp/lib -Wl,-rpath-link,/home/local/USHERBROOKE/levj1404/miniconda3/envs/nlp/lib -L/home/local/USHERBROOKE/levj1404/miniconda3/envs/nlp/lib -Wl,-rpath,/home/local/USHERBROOKE/levj1404/miniconda3/envs/nlp/lib -Wl,-rpath-link,/home/local/USHERBROOKE/levj1404/miniconda3/envs/nlp/lib -L/home/local/USHERBROOKE/levj1404/miniconda3/envs/nlp/lib build/temp.linux-x86_64-cpython-310/fairseq/data/data_utils_fast.o -o build/lib.linux-x86_64-cpython-310/fairseq/data/data_utils_fast.cpython-310-x86_64-linux-gnu.so\n"
     ]
    },
    {
     "name": "stdout",
     "output_type": "stream",
     "text": [
      "Compiling fairseq/data/token_block_utils_fast.pyx because it changed.\n",
      "[1/1] Cythonizing fairseq/data/token_block_utils_fast.pyx\n"
     ]
    },
    {
     "name": "stderr",
     "output_type": "stream",
     "text": [
      "INFO:root:building 'fairseq.data.token_block_utils_fast' extension\n",
      "INFO:root:gcc -pthread -B /home/local/USHERBROOKE/levj1404/miniconda3/envs/nlp/compiler_compat -Wno-unused-result -Wsign-compare -DNDEBUG -fwrapv -O2 -Wall -fPIC -O2 -isystem /home/local/USHERBROOKE/levj1404/miniconda3/envs/nlp/include -fPIC -O2 -isystem /home/local/USHERBROOKE/levj1404/miniconda3/envs/nlp/include -fPIC -I/home/local/USHERBROOKE/levj1404/miniconda3/envs/nlp/lib/python3.10/site-packages/numpy/core/include -I/home/local/USHERBROOKE/levj1404/miniconda3/envs/nlp/lib/python3.10/site-packages/numpy/core/include -I/home/local/USHERBROOKE/levj1404/miniconda3/envs/nlp/include/python3.10 -c fairseq/data/token_block_utils_fast.cpp -o build/temp.linux-x86_64-cpython-310/fairseq/data/token_block_utils_fast.o -std=c++11 -O3 -DTORCH_API_INCLUDE_EXTENSION_H -DPYBIND11_COMPILER_TYPE=\\\"_gcc\\\" -DPYBIND11_STDLIB=\\\"_libstdcpp\\\" -DPYBIND11_BUILD_ABI=\\\"_cxxabi1011\\\" -DTORCH_EXTENSION_NAME=token_block_utils_fast -D_GLIBCXX_USE_CXX11_ABI=0\n",
      "In file included from /home/local/USHERBROOKE/levj1404/miniconda3/envs/nlp/lib/python3.10/site-packages/numpy/core/include/numpy/ndarraytypes.h:1929,\n",
      "                 from /home/local/USHERBROOKE/levj1404/miniconda3/envs/nlp/lib/python3.10/site-packages/numpy/core/include/numpy/ndarrayobject.h:12,\n",
      "                 from /home/local/USHERBROOKE/levj1404/miniconda3/envs/nlp/lib/python3.10/site-packages/numpy/core/include/numpy/arrayobject.h:5,\n",
      "                 from fairseq/data/token_block_utils_fast.cpp:1244:\n",
      "/home/local/USHERBROOKE/levj1404/miniconda3/envs/nlp/lib/python3.10/site-packages/numpy/core/include/numpy/npy_1_7_deprecated_api.h:17:2: warning: #warning \"Using deprecated NumPy API, disable it with \" \"#define NPY_NO_DEPRECATED_API NPY_1_7_API_VERSION\" [-Wcpp]\n",
      "   17 | #warning \"Using deprecated NumPy API, disable it with \" \\\n",
      "      |  ^~~~~~~\n",
      "INFO:root:g++ -pthread -B /home/local/USHERBROOKE/levj1404/miniconda3/envs/nlp/compiler_compat -shared -Wl,-rpath,/home/local/USHERBROOKE/levj1404/miniconda3/envs/nlp/lib -Wl,-rpath-link,/home/local/USHERBROOKE/levj1404/miniconda3/envs/nlp/lib -L/home/local/USHERBROOKE/levj1404/miniconda3/envs/nlp/lib -Wl,-rpath,/home/local/USHERBROOKE/levj1404/miniconda3/envs/nlp/lib -Wl,-rpath-link,/home/local/USHERBROOKE/levj1404/miniconda3/envs/nlp/lib -L/home/local/USHERBROOKE/levj1404/miniconda3/envs/nlp/lib build/temp.linux-x86_64-cpython-310/fairseq/data/token_block_utils_fast.o -o build/lib.linux-x86_64-cpython-310/fairseq/data/token_block_utils_fast.cpython-310-x86_64-linux-gnu.so\n",
      "INFO:root:building 'fairseq.libbase' extension\n",
      "INFO:root:creating build/temp.linux-x86_64-cpython-310/fairseq/clib/libbase\n",
      "INFO:root:gcc -pthread -B /home/local/USHERBROOKE/levj1404/miniconda3/envs/nlp/compiler_compat -Wno-unused-result -Wsign-compare -DNDEBUG -fwrapv -O2 -Wall -fPIC -O2 -isystem /home/local/USHERBROOKE/levj1404/miniconda3/envs/nlp/include -fPIC -O2 -isystem /home/local/USHERBROOKE/levj1404/miniconda3/envs/nlp/include -fPIC -I/home/local/USHERBROOKE/levj1404/miniconda3/envs/nlp/lib/python3.10/site-packages/torch/include -I/home/local/USHERBROOKE/levj1404/miniconda3/envs/nlp/lib/python3.10/site-packages/torch/include/torch/csrc/api/include -I/home/local/USHERBROOKE/levj1404/miniconda3/envs/nlp/lib/python3.10/site-packages/torch/include/TH -I/home/local/USHERBROOKE/levj1404/miniconda3/envs/nlp/lib/python3.10/site-packages/torch/include/THC -I/home/local/USHERBROOKE/levj1404/miniconda3/envs/nlp/include/python3.10 -c fairseq/clib/libbase/balanced_assignment.cpp -o build/temp.linux-x86_64-cpython-310/fairseq/clib/libbase/balanced_assignment.o -DTORCH_API_INCLUDE_EXTENSION_H -DPYBIND11_COMPILER_TYPE=\\\"_gcc\\\" -DPYBIND11_STDLIB=\\\"_libstdcpp\\\" -DPYBIND11_BUILD_ABI=\\\"_cxxabi1011\\\" -DTORCH_EXTENSION_NAME=libbase -D_GLIBCXX_USE_CXX11_ABI=0 -std=c++17\n",
      "INFO:root:g++ -pthread -B /home/local/USHERBROOKE/levj1404/miniconda3/envs/nlp/compiler_compat -shared -Wl,-rpath,/home/local/USHERBROOKE/levj1404/miniconda3/envs/nlp/lib -Wl,-rpath-link,/home/local/USHERBROOKE/levj1404/miniconda3/envs/nlp/lib -L/home/local/USHERBROOKE/levj1404/miniconda3/envs/nlp/lib -Wl,-rpath,/home/local/USHERBROOKE/levj1404/miniconda3/envs/nlp/lib -Wl,-rpath-link,/home/local/USHERBROOKE/levj1404/miniconda3/envs/nlp/lib -L/home/local/USHERBROOKE/levj1404/miniconda3/envs/nlp/lib build/temp.linux-x86_64-cpython-310/fairseq/clib/libbase/balanced_assignment.o -L/home/local/USHERBROOKE/levj1404/miniconda3/envs/nlp/lib/python3.10/site-packages/torch/lib -lc10 -ltorch -ltorch_cpu -ltorch_python -o build/lib.linux-x86_64-cpython-310/fairseq/libbase.cpython-310-x86_64-linux-gnu.so\n",
      "INFO:root:building 'fairseq.libnat' extension\n",
      "INFO:root:creating build/temp.linux-x86_64-cpython-310/fairseq/clib/libnat\n",
      "INFO:root:gcc -pthread -B /home/local/USHERBROOKE/levj1404/miniconda3/envs/nlp/compiler_compat -Wno-unused-result -Wsign-compare -DNDEBUG -fwrapv -O2 -Wall -fPIC -O2 -isystem /home/local/USHERBROOKE/levj1404/miniconda3/envs/nlp/include -fPIC -O2 -isystem /home/local/USHERBROOKE/levj1404/miniconda3/envs/nlp/include -fPIC -I/home/local/USHERBROOKE/levj1404/miniconda3/envs/nlp/lib/python3.10/site-packages/torch/include -I/home/local/USHERBROOKE/levj1404/miniconda3/envs/nlp/lib/python3.10/site-packages/torch/include/torch/csrc/api/include -I/home/local/USHERBROOKE/levj1404/miniconda3/envs/nlp/lib/python3.10/site-packages/torch/include/TH -I/home/local/USHERBROOKE/levj1404/miniconda3/envs/nlp/lib/python3.10/site-packages/torch/include/THC -I/home/local/USHERBROOKE/levj1404/miniconda3/envs/nlp/include/python3.10 -c fairseq/clib/libnat/edit_dist.cpp -o build/temp.linux-x86_64-cpython-310/fairseq/clib/libnat/edit_dist.o -DTORCH_API_INCLUDE_EXTENSION_H -DPYBIND11_COMPILER_TYPE=\\\"_gcc\\\" -DPYBIND11_STDLIB=\\\"_libstdcpp\\\" -DPYBIND11_BUILD_ABI=\\\"_cxxabi1011\\\" -DTORCH_EXTENSION_NAME=libnat -D_GLIBCXX_USE_CXX11_ABI=0 -std=c++17\n",
      "INFO:root:g++ -pthread -B /home/local/USHERBROOKE/levj1404/miniconda3/envs/nlp/compiler_compat -shared -Wl,-rpath,/home/local/USHERBROOKE/levj1404/miniconda3/envs/nlp/lib -Wl,-rpath-link,/home/local/USHERBROOKE/levj1404/miniconda3/envs/nlp/lib -L/home/local/USHERBROOKE/levj1404/miniconda3/envs/nlp/lib -Wl,-rpath,/home/local/USHERBROOKE/levj1404/miniconda3/envs/nlp/lib -Wl,-rpath-link,/home/local/USHERBROOKE/levj1404/miniconda3/envs/nlp/lib -L/home/local/USHERBROOKE/levj1404/miniconda3/envs/nlp/lib build/temp.linux-x86_64-cpython-310/fairseq/clib/libnat/edit_dist.o -L/home/local/USHERBROOKE/levj1404/miniconda3/envs/nlp/lib/python3.10/site-packages/torch/lib -lc10 -ltorch -ltorch_cpu -ltorch_python -o build/lib.linux-x86_64-cpython-310/fairseq/libnat.cpython-310-x86_64-linux-gnu.so\n",
      "INFO:root:building 'alignment_train_cpu_binding' extension\n",
      "INFO:root:creating build/temp.linux-x86_64-cpython-310/examples\n",
      "INFO:root:creating build/temp.linux-x86_64-cpython-310/examples/operators\n",
      "INFO:root:gcc -pthread -B /home/local/USHERBROOKE/levj1404/miniconda3/envs/nlp/compiler_compat -Wno-unused-result -Wsign-compare -DNDEBUG -fwrapv -O2 -Wall -fPIC -O2 -isystem /home/local/USHERBROOKE/levj1404/miniconda3/envs/nlp/include -fPIC -O2 -isystem /home/local/USHERBROOKE/levj1404/miniconda3/envs/nlp/include -fPIC -I/home/local/USHERBROOKE/levj1404/miniconda3/envs/nlp/lib/python3.10/site-packages/torch/include -I/home/local/USHERBROOKE/levj1404/miniconda3/envs/nlp/lib/python3.10/site-packages/torch/include/torch/csrc/api/include -I/home/local/USHERBROOKE/levj1404/miniconda3/envs/nlp/lib/python3.10/site-packages/torch/include/TH -I/home/local/USHERBROOKE/levj1404/miniconda3/envs/nlp/lib/python3.10/site-packages/torch/include/THC -I/home/local/USHERBROOKE/levj1404/miniconda3/envs/nlp/include/python3.10 -c examples/operators/alignment_train_cpu.cpp -o build/temp.linux-x86_64-cpython-310/examples/operators/alignment_train_cpu.o -DTORCH_API_INCLUDE_EXTENSION_H -DPYBIND11_COMPILER_TYPE=\\\"_gcc\\\" -DPYBIND11_STDLIB=\\\"_libstdcpp\\\" -DPYBIND11_BUILD_ABI=\\\"_cxxabi1011\\\" -DTORCH_EXTENSION_NAME=alignment_train_cpu_binding -D_GLIBCXX_USE_CXX11_ABI=0 -std=c++17\n",
      "In function ‘void {anonymous}::alignmentTrainCPUImpl(const T*, T*, uint32_t, uint32_t, uint32_t, float) [with T = double]’,\n",
      "    inlined from ‘{anonymous}::alignmentTrainCPU(const at::Tensor&, at::Tensor&, float)::<lambda()>::<lambda()>’ at examples/operators/alignment_train_cpu.cpp:143:3,\n",
      "    inlined from ‘{anonymous}::alignmentTrainCPU(const at::Tensor&, at::Tensor&, float)::<lambda()>’ at examples/operators/alignment_train_cpu.cpp:143:3,\n",
      "    inlined from ‘void {anonymous}::alignmentTrainCPU(const at::Tensor&, at::Tensor&, float)’ at examples/operators/alignment_train_cpu.cpp:143:3:\n",
      "examples/operators/alignment_train_cpu.cpp:131:7: warning: ‘void free(void*)’ called on pointer returned from a mismatched allocation function [-Wmismatched-new-delete]\n",
      "  131 |   free(cumprod_1mp);\n",
      "      |   ~~~~^~~~~~~~~~~~~\n",
      "examples/operators/alignment_train_cpu.cpp: In function ‘void {anonymous}::alignmentTrainCPU(const at::Tensor&, at::Tensor&, float)’:\n",
      "examples/operators/alignment_train_cpu.cpp:93:20: note: returned from ‘void* operator new [](std::size_t)’\n",
      "   93 |   T* cumprod_1mp = new T[elements];\n",
      "      |                    ^~~~~~~~~~~~~~~\n",
      "In function ‘void {anonymous}::alignmentTrainCPUImpl(const T*, T*, uint32_t, uint32_t, uint32_t, float) [with T = double]’,\n",
      "    inlined from ‘{anonymous}::alignmentTrainCPU(const at::Tensor&, at::Tensor&, float)::<lambda()>::<lambda()>’ at examples/operators/alignment_train_cpu.cpp:143:3,\n",
      "    inlined from ‘{anonymous}::alignmentTrainCPU(const at::Tensor&, at::Tensor&, float)::<lambda()>’ at examples/operators/alignment_train_cpu.cpp:143:3,\n",
      "    inlined from ‘void {anonymous}::alignmentTrainCPU(const at::Tensor&, at::Tensor&, float)’ at examples/operators/alignment_train_cpu.cpp:143:3:\n",
      "examples/operators/alignment_train_cpu.cpp:132:7: warning: ‘void free(void*)’ called on pointer returned from a mismatched allocation function [-Wmismatched-new-delete]\n",
      "  132 |   free(cumprod_1mp_clamp);\n",
      "      |   ~~~~^~~~~~~~~~~~~~~~~~~\n",
      "examples/operators/alignment_train_cpu.cpp: In function ‘void {anonymous}::alignmentTrainCPU(const at::Tensor&, at::Tensor&, float)’:\n",
      "examples/operators/alignment_train_cpu.cpp:94:26: note: returned from ‘void* operator new [](std::size_t)’\n",
      "   94 |   T* cumprod_1mp_clamp = new T[elements];\n",
      "      |                          ^~~~~~~~~~~~~~~\n",
      "In function ‘void {anonymous}::alignmentTrainCPUImpl(const T*, T*, uint32_t, uint32_t, uint32_t, float) [with T = float]’,\n",
      "    inlined from ‘{anonymous}::alignmentTrainCPU(const at::Tensor&, at::Tensor&, float)::<lambda()>::<lambda()>’ at examples/operators/alignment_train_cpu.cpp:143:3,\n",
      "    inlined from ‘{anonymous}::alignmentTrainCPU(const at::Tensor&, at::Tensor&, float)::<lambda()>’ at examples/operators/alignment_train_cpu.cpp:143:3,\n",
      "    inlined from ‘void {anonymous}::alignmentTrainCPU(const at::Tensor&, at::Tensor&, float)’ at examples/operators/alignment_train_cpu.cpp:143:3:\n",
      "examples/operators/alignment_train_cpu.cpp:131:7: warning: ‘void free(void*)’ called on pointer returned from a mismatched allocation function [-Wmismatched-new-delete]\n",
      "  131 |   free(cumprod_1mp);\n",
      "      |   ~~~~^~~~~~~~~~~~~\n",
      "examples/operators/alignment_train_cpu.cpp: In function ‘void {anonymous}::alignmentTrainCPU(const at::Tensor&, at::Tensor&, float)’:\n",
      "examples/operators/alignment_train_cpu.cpp:93:20: note: returned from ‘void* operator new [](std::size_t)’\n",
      "   93 |   T* cumprod_1mp = new T[elements];\n",
      "      |                    ^~~~~~~~~~~~~~~\n",
      "In function ‘void {anonymous}::alignmentTrainCPUImpl(const T*, T*, uint32_t, uint32_t, uint32_t, float) [with T = float]’,\n",
      "    inlined from ‘{anonymous}::alignmentTrainCPU(const at::Tensor&, at::Tensor&, float)::<lambda()>::<lambda()>’ at examples/operators/alignment_train_cpu.cpp:143:3,\n",
      "    inlined from ‘{anonymous}::alignmentTrainCPU(const at::Tensor&, at::Tensor&, float)::<lambda()>’ at examples/operators/alignment_train_cpu.cpp:143:3,\n",
      "    inlined from ‘void {anonymous}::alignmentTrainCPU(const at::Tensor&, at::Tensor&, float)’ at examples/operators/alignment_train_cpu.cpp:143:3:\n",
      "examples/operators/alignment_train_cpu.cpp:132:7: warning: ‘void free(void*)’ called on pointer returned from a mismatched allocation function [-Wmismatched-new-delete]\n",
      "  132 |   free(cumprod_1mp_clamp);\n",
      "      |   ~~~~^~~~~~~~~~~~~~~~~~~\n",
      "examples/operators/alignment_train_cpu.cpp: In function ‘void {anonymous}::alignmentTrainCPU(const at::Tensor&, at::Tensor&, float)’:\n",
      "examples/operators/alignment_train_cpu.cpp:94:26: note: returned from ‘void* operator new [](std::size_t)’\n",
      "   94 |   T* cumprod_1mp_clamp = new T[elements];\n",
      "      |                          ^~~~~~~~~~~~~~~\n",
      "In function ‘void {anonymous}::alignmentTrainCPUImpl(const T*, T*, uint32_t, uint32_t, uint32_t, float) [with T = c10::Half]’,\n",
      "    inlined from ‘{anonymous}::alignmentTrainCPU(const at::Tensor&, at::Tensor&, float)::<lambda()>::<lambda()>’ at examples/operators/alignment_train_cpu.cpp:143:3,\n",
      "    inlined from ‘{anonymous}::alignmentTrainCPU(const at::Tensor&, at::Tensor&, float)::<lambda()>’ at examples/operators/alignment_train_cpu.cpp:143:3,\n",
      "    inlined from ‘void {anonymous}::alignmentTrainCPU(const at::Tensor&, at::Tensor&, float)’ at examples/operators/alignment_train_cpu.cpp:143:3:\n",
      "examples/operators/alignment_train_cpu.cpp:131:7: warning: ‘void free(void*)’ called on pointer returned from a mismatched allocation function [-Wmismatched-new-delete]\n",
      "  131 |   free(cumprod_1mp);\n",
      "      |   ~~~~^~~~~~~~~~~~~\n",
      "examples/operators/alignment_train_cpu.cpp: In function ‘void {anonymous}::alignmentTrainCPU(const at::Tensor&, at::Tensor&, float)’:\n",
      "examples/operators/alignment_train_cpu.cpp:93:20: note: returned from ‘void* operator new [](std::size_t)’\n",
      "   93 |   T* cumprod_1mp = new T[elements];\n",
      "      |                    ^~~~~~~~~~~~~~~\n",
      "In function ‘void {anonymous}::alignmentTrainCPUImpl(const T*, T*, uint32_t, uint32_t, uint32_t, float) [with T = c10::Half]’,\n",
      "    inlined from ‘{anonymous}::alignmentTrainCPU(const at::Tensor&, at::Tensor&, float)::<lambda()>::<lambda()>’ at examples/operators/alignment_train_cpu.cpp:143:3,\n",
      "    inlined from ‘{anonymous}::alignmentTrainCPU(const at::Tensor&, at::Tensor&, float)::<lambda()>’ at examples/operators/alignment_train_cpu.cpp:143:3,\n",
      "    inlined from ‘void {anonymous}::alignmentTrainCPU(const at::Tensor&, at::Tensor&, float)’ at examples/operators/alignment_train_cpu.cpp:143:3:\n",
      "examples/operators/alignment_train_cpu.cpp:132:7: warning: ‘void free(void*)’ called on pointer returned from a mismatched allocation function [-Wmismatched-new-delete]\n",
      "  132 |   free(cumprod_1mp_clamp);\n",
      "      |   ~~~~^~~~~~~~~~~~~~~~~~~\n",
      "examples/operators/alignment_train_cpu.cpp: In function ‘void {anonymous}::alignmentTrainCPU(const at::Tensor&, at::Tensor&, float)’:\n",
      "examples/operators/alignment_train_cpu.cpp:94:26: note: returned from ‘void* operator new [](std::size_t)’\n",
      "   94 |   T* cumprod_1mp_clamp = new T[elements];\n",
      "      |                          ^~~~~~~~~~~~~~~\n",
      "In function ‘void {anonymous}::alignmentTrainCPUImpl(const T*, T*, uint32_t, uint32_t, uint32_t, float) [with T = c10::BFloat16]’,\n",
      "    inlined from ‘{anonymous}::alignmentTrainCPU(const at::Tensor&, at::Tensor&, float)::<lambda()>::<lambda()>’ at examples/operators/alignment_train_cpu.cpp:143:3,\n",
      "    inlined from ‘{anonymous}::alignmentTrainCPU(const at::Tensor&, at::Tensor&, float)::<lambda()>’ at examples/operators/alignment_train_cpu.cpp:143:3,\n",
      "    inlined from ‘void {anonymous}::alignmentTrainCPU(const at::Tensor&, at::Tensor&, float)’ at examples/operators/alignment_train_cpu.cpp:143:3:\n",
      "examples/operators/alignment_train_cpu.cpp:131:7: warning: ‘void free(void*)’ called on pointer returned from a mismatched allocation function [-Wmismatched-new-delete]\n",
      "  131 |   free(cumprod_1mp);\n",
      "      |   ~~~~^~~~~~~~~~~~~\n",
      "examples/operators/alignment_train_cpu.cpp: In function ‘void {anonymous}::alignmentTrainCPU(const at::Tensor&, at::Tensor&, float)’:\n",
      "examples/operators/alignment_train_cpu.cpp:93:20: note: returned from ‘void* operator new [](std::size_t)’\n",
      "   93 |   T* cumprod_1mp = new T[elements];\n",
      "      |                    ^~~~~~~~~~~~~~~\n",
      "In function ‘void {anonymous}::alignmentTrainCPUImpl(const T*, T*, uint32_t, uint32_t, uint32_t, float) [with T = c10::BFloat16]’,\n",
      "    inlined from ‘{anonymous}::alignmentTrainCPU(const at::Tensor&, at::Tensor&, float)::<lambda()>::<lambda()>’ at examples/operators/alignment_train_cpu.cpp:143:3,\n",
      "    inlined from ‘{anonymous}::alignmentTrainCPU(const at::Tensor&, at::Tensor&, float)::<lambda()>’ at examples/operators/alignment_train_cpu.cpp:143:3,\n",
      "    inlined from ‘void {anonymous}::alignmentTrainCPU(const at::Tensor&, at::Tensor&, float)’ at examples/operators/alignment_train_cpu.cpp:143:3:\n",
      "examples/operators/alignment_train_cpu.cpp:132:7: warning: ‘void free(void*)’ called on pointer returned from a mismatched allocation function [-Wmismatched-new-delete]\n",
      "  132 |   free(cumprod_1mp_clamp);\n",
      "      |   ~~~~^~~~~~~~~~~~~~~~~~~\n",
      "examples/operators/alignment_train_cpu.cpp: In function ‘void {anonymous}::alignmentTrainCPU(const at::Tensor&, at::Tensor&, float)’:\n",
      "examples/operators/alignment_train_cpu.cpp:94:26: note: returned from ‘void* operator new [](std::size_t)’\n",
      "   94 |   T* cumprod_1mp_clamp = new T[elements];\n",
      "      |                          ^~~~~~~~~~~~~~~\n",
      "INFO:root:g++ -pthread -B /home/local/USHERBROOKE/levj1404/miniconda3/envs/nlp/compiler_compat -shared -Wl,-rpath,/home/local/USHERBROOKE/levj1404/miniconda3/envs/nlp/lib -Wl,-rpath-link,/home/local/USHERBROOKE/levj1404/miniconda3/envs/nlp/lib -L/home/local/USHERBROOKE/levj1404/miniconda3/envs/nlp/lib -Wl,-rpath,/home/local/USHERBROOKE/levj1404/miniconda3/envs/nlp/lib -Wl,-rpath-link,/home/local/USHERBROOKE/levj1404/miniconda3/envs/nlp/lib -L/home/local/USHERBROOKE/levj1404/miniconda3/envs/nlp/lib build/temp.linux-x86_64-cpython-310/examples/operators/alignment_train_cpu.o -L/home/local/USHERBROOKE/levj1404/miniconda3/envs/nlp/lib/python3.10/site-packages/torch/lib -lc10 -ltorch -ltorch_cpu -ltorch_python -o build/lib.linux-x86_64-cpython-310/alignment_train_cpu_binding.cpython-310-x86_64-linux-gnu.so\n",
      "INFO:root:copying build/lib.linux-x86_64-cpython-310/fairseq/libbleu.cpython-310-x86_64-linux-gnu.so -> fairseq\n",
      "INFO:root:copying build/lib.linux-x86_64-cpython-310/fairseq/data/data_utils_fast.cpython-310-x86_64-linux-gnu.so -> fairseq/data\n",
      "INFO:root:copying build/lib.linux-x86_64-cpython-310/fairseq/data/token_block_utils_fast.cpython-310-x86_64-linux-gnu.so -> fairseq/data\n",
      "INFO:root:copying build/lib.linux-x86_64-cpython-310/fairseq/libbase.cpython-310-x86_64-linux-gnu.so -> fairseq\n",
      "INFO:root:copying build/lib.linux-x86_64-cpython-310/fairseq/libnat.cpython-310-x86_64-linux-gnu.so -> fairseq\n",
      "INFO:root:copying build/lib.linux-x86_64-cpython-310/alignment_train_cpu_binding.cpython-310-x86_64-linux-gnu.so -> \n",
      "INFO:fairseq.file_utils:loading archive file http://dl.fbaipublicfiles.com/fairseq/models/roberta.large.tar.gz from cache at /home/local/USHERBROOKE/levj1404/.cache/torch/pytorch_fairseq/83e3a689e28e5e4696ecb0bbb05a77355444a5c8a3437e0f736d8a564e80035e.c687083d14776c1979f3f71654febb42f2bb3d9a94ff7ebdfe1ac6748dba89d2\n",
      "/home/local/USHERBROOKE/levj1404/miniconda3/envs/nlp/lib/python3.10/site-packages/hydra/experimental/initialize.py:43: UserWarning: hydra.experimental.initialize() is no longer experimental. Use hydra.initialize()\n",
      "  deprecation_warning(message=message)\n",
      "/home/local/USHERBROOKE/levj1404/miniconda3/envs/nlp/lib/python3.10/site-packages/hydra/experimental/initialize.py:45: UserWarning: \n",
      "The version_base parameter is not specified.\n",
      "Please specify a compatability version level, or None.\n",
      "Will assume defaults for version 1.1\n",
      "  self.delegate = real_initialize(\n",
      "/home/local/USHERBROOKE/levj1404/miniconda3/envs/nlp/lib/python3.10/site-packages/hydra/experimental/compose.py:25: UserWarning: hydra.experimental.compose() is no longer experimental. Use hydra.compose()\n",
      "  deprecation_warning(message=message)\n",
      "/home/local/USHERBROOKE/levj1404/miniconda3/envs/nlp/lib/python3.10/site-packages/hydra/core/default_element.py:124: UserWarning: In 'config': Usage of deprecated keyword in package header '# @package _group_'.\n",
      "See https://hydra.cc/docs/1.2/upgrades/1.0_to_1.1/changes_to_package_header for more information\n",
      "  deprecation_warning(\n",
      "/home/local/USHERBROOKE/levj1404/.cache/torch/hub/pytorch_fairseq_main/fairseq/checkpoint_utils.py:450: UserWarning: \n",
      "'config' is validated against ConfigStore schema with the same name.\n",
      "This behavior is deprecated in Hydra 1.1 and will be removed in Hydra 1.2.\n",
      "See https://hydra.cc/docs/1.2/upgrades/1.0_to_1.1/automatic_schema_matching for migration instructions.\n",
      "  state = load_checkpoint_to_cpu(filename, arg_overrides)\n",
      "/home/local/USHERBROOKE/levj1404/miniconda3/envs/nlp/lib/python3.10/site-packages/hydra/compose.py:56: UserWarning: \n",
      "The strict flag in the compose API is deprecated.\n",
      "See https://hydra.cc/docs/1.2/upgrades/0.11_to_1.0/strict_mode_flag_deprecated for more info.\n",
      "\n",
      "  deprecation_warning(\n",
      "/home/local/USHERBROOKE/levj1404/miniconda3/envs/nlp/lib/python3.10/site-packages/hydra/experimental/initialize.py:43: UserWarning: hydra.experimental.initialize() is no longer experimental. Use hydra.initialize()\n",
      "  deprecation_warning(message=message)\n",
      "/home/local/USHERBROOKE/levj1404/miniconda3/envs/nlp/lib/python3.10/site-packages/hydra/experimental/initialize.py:45: UserWarning: \n",
      "The version_base parameter is not specified.\n",
      "Please specify a compatability version level, or None.\n",
      "Will assume defaults for version 1.1\n",
      "  self.delegate = real_initialize(\n",
      "/home/local/USHERBROOKE/levj1404/.cache/torch/hub/pytorch_fairseq_main/fairseq/models/roberta/model.py:369: UserWarning: \n",
      "'config' is validated against ConfigStore schema with the same name.\n",
      "This behavior is deprecated in Hydra 1.1 and will be removed in Hydra 1.2.\n",
      "See https://hydra.cc/docs/1.2/upgrades/1.0_to_1.1/automatic_schema_matching for migration instructions.\n",
      "  x = hub_utils.from_pretrained(\n",
      "INFO:fairseq.tasks.masked_lm:dictionary: 50264 types\n",
      "INFO:fairseq.models.roberta.model:{'_name': None, 'common': {'_name': None, 'no_progress_bar': False, 'log_interval': 25, 'log_format': 'json', 'log_file': None, 'aim_repo': None, 'aim_run_hash': None, 'tensorboard_logdir': None, 'wandb_project': None, 'azureml_logging': False, 'seed': 4, 'cpu': False, 'tpu': False, 'bf16': False, 'memory_efficient_bf16': False, 'fp16': True, 'memory_efficient_fp16': True, 'fp16_no_flatten_grads': False, 'fp16_init_scale': 4, 'fp16_scale_window': 128, 'fp16_scale_tolerance': 0.0, 'on_cpu_convert_precision': False, 'min_loss_scale': 0.0001, 'threshold_loss_scale': 1.0, 'amp': False, 'amp_batch_retries': 2, 'amp_init_scale': 128, 'amp_scale_window': None, 'user_dir': None, 'empty_cache_freq': 0, 'all_gather_list_size': 16384, 'model_parallel_size': 1, 'quantization_config_path': None, 'profile': False, 'reset_logging': False, 'suppress_crashes': False, 'use_plasma_view': False, 'plasma_path': '/tmp/plasma'}, 'common_eval': {'_name': None, 'path': None, 'post_process': None, 'quiet': False, 'model_overrides': '{}', 'results_path': None}, 'distributed_training': {'_name': None, 'distributed_world_size': 1024, 'distributed_num_procs': 1, 'distributed_rank': 0, 'distributed_backend': 'nccl', 'distributed_init_method': None, 'distributed_port': 19237, 'device_id': 0, 'distributed_no_spawn': False, 'ddp_backend': 'c10d', 'ddp_comm_hook': 'none', 'bucket_cap_mb': 200, 'fix_batches_to_gpus': False, 'find_unused_parameters': True, 'gradient_as_bucket_view': False, 'fast_stat_sync': False, 'heartbeat_timeout': -1, 'broadcast_buffers': False, 'slowmo_momentum': None, 'slowmo_base_algorithm': 'localsgd', 'localsgd_frequency': 3, 'nprocs_per_node': 1, 'pipeline_model_parallel': False, 'pipeline_balance': None, 'pipeline_devices': None, 'pipeline_chunks': 0, 'pipeline_encoder_balance': None, 'pipeline_encoder_devices': None, 'pipeline_decoder_balance': None, 'pipeline_decoder_devices': None, 'pipeline_checkpoint': 'never', 'zero_sharding': 'none', 'fp16': True, 'memory_efficient_fp16': True, 'tpu': True, 'no_reshard_after_forward': False, 'fp32_reduce_scatter': False, 'cpu_offload': False, 'use_sharded_state': False, 'not_fsdp_flatten_parameters': False}, 'dataset': {'_name': None, 'num_workers': 2, 'skip_invalid_size_inputs_valid_test': True, 'max_tokens': 4400, 'batch_size': None, 'required_batch_size_multiple': 1, 'required_seq_len_multiple': 1, 'dataset_impl': 'mmap', 'data_buffer_size': 10, 'train_subset': 'train', 'valid_subset': 'valid', 'combine_valid_subsets': None, 'ignore_unused_valid_subsets': False, 'validate_interval': 1, 'validate_interval_updates': 0, 'validate_after_updates': 0, 'fixed_validation_seed': None, 'disable_validation': False, 'max_tokens_valid': 4400, 'batch_size_valid': None, 'max_valid_steps': None, 'curriculum': 0, 'gen_subset': 'test', 'num_shards': 1, 'shard_id': 0, 'grouped_shuffling': False, 'update_epoch_batch_itr': True, 'update_ordered_indices_seed': False}, 'optimization': {'_name': None, 'max_epoch': 0, 'max_update': 500000, 'stop_time_hours': 0.0, 'clip_norm': 0.0, 'sentence_avg': False, 'update_freq': [1], 'lr': [0.0004], 'stop_min_lr': -1.0, 'use_bmuf': False, 'skip_remainder_batch': False, 'debug_param_names': False}, 'checkpoint': {'_name': None, 'save_dir': 'checkpoints', 'restore_file': 'checkpoint_last.pt', 'continue_once': None, 'finetune_from_model': None, 'reset_dataloader': False, 'reset_lr_scheduler': False, 'reset_meters': False, 'reset_optimizer': False, 'optimizer_overrides': '{}', 'save_interval': 1, 'save_interval_updates': 2000, 'keep_interval_updates': -1, 'keep_interval_updates_pattern': -1, 'keep_last_epochs': -1, 'keep_best_checkpoints': -1, 'no_save': False, 'no_epoch_checkpoints': True, 'no_last_checkpoints': False, 'no_save_optimizer_state': False, 'best_checkpoint_metric': 'loss', 'maximize_best_checkpoint_metric': False, 'patience': -1, 'checkpoint_suffix': '', 'checkpoint_shard_count': 1, 'load_checkpoint_on_all_dp_ranks': False, 'write_checkpoints_asynchronously': False, 'model_parallel_size': 1}, 'bmuf': {'_name': None, 'block_lr': 1.0, 'block_momentum': 0.875, 'global_sync_iter': 10, 'warmup_iterations': 500, 'use_nbm': False, 'average_sync': False, 'distributed_world_size': 1024}, 'generation': {'_name': None, 'beam': 5, 'beam_mt': 0, 'nbest': 1, 'max_len_a': 0.0, 'max_len_b': 200, 'max_len_a_mt': 0.0, 'max_len_b_mt': 200, 'min_len': 1, 'match_source_len': False, 'unnormalized': False, 'no_early_stop': False, 'no_beamable_mm': False, 'lenpen': 1.0, 'lenpen_mt': 1.0, 'unkpen': 0.0, 'replace_unk': None, 'sacrebleu': False, 'score_reference': False, 'prefix_size': 0, 'no_repeat_ngram_size': 0, 'sampling': False, 'sampling_topk': -1, 'sampling_topp': -1.0, 'constraints': None, 'temperature': 1.0, 'diverse_beam_groups': -1, 'diverse_beam_strength': 0.5, 'diversity_rate': -1.0, 'print_alignment': None, 'print_step': False, 'lm_path': None, 'lm_weight': 0.0, 'iter_decode_eos_penalty': 0.0, 'iter_decode_max_iter': 10, 'iter_decode_force_max_iter': False, 'iter_decode_with_beam': 1, 'iter_decode_with_external_reranker': False, 'retain_iter_history': False, 'retain_dropout': False, 'retain_dropout_modules': None, 'decoding_format': None, 'no_seed_provided': False, 'eos_token': None}, 'eval_lm': {'_name': None, 'output_word_probs': False, 'output_word_stats': False, 'context_window': 0, 'softmax_batch': 9223372036854775807}, 'interactive': {'_name': None, 'buffer_size': 0, 'input': '-'}, 'model': Namespace(no_progress_bar=False, log_interval=25, log_format='json', tbmf_wrapper=False, seed=4, cpu=False, fp16=True, memory_efficient_fp16=True, fp16_init_scale=4, fp16_scale_window=128, fp16_scale_tolerance=0.0, min_loss_scale=0.0001, threshold_loss_scale=1.0, user_dir=None, criterion='masked_lm', tokenizer=None, bpe='gpt2', optimizer='adam', lr_scheduler='polynomial_decay', task='masked_lm', num_workers=2, skip_invalid_size_inputs_valid_test=True, max_tokens=4400, max_sentences=8, required_batch_size_multiple=1, dataset_impl='mmap', train_subset='train', valid_subset='valid', validate_interval=1, disable_validation=False, only_validate=False, max_sentences_valid=8, curriculum=0, distributed_world_size=1024, distributed_rank=0, distributed_backend='nccl', distributed_port=19237, device_id=0, distributed_no_spawn=False, ddp_backend='c10d', bucket_cap_mb=200, fix_batches_to_gpus=False, find_unused_parameters=True, arch='roberta_large', max_epoch=0, max_update=500000, clip_norm=0.0, sentence_avg=False, update_freq=[1], lr=[0.0004], use_bmuf=False, global_sync_iter=10, restore_file='checkpoint_last.pt', reset_dataloader=False, reset_lr_scheduler=False, reset_meters=False, reset_optimizer=False, optimizer_overrides='{}', save_interval=1, save_interval_updates=2000, keep_interval_updates=-1, keep_last_epochs=-1, no_save=False, no_epoch_checkpoints=True, no_last_checkpoints=False, no_save_optimizer_state=False, best_checkpoint_metric='loss', maximize_best_checkpoint_metric=False, adam_betas='(0.9, 0.98)', adam_eps=1e-06, weight_decay=0.01, force_anneal=None, warmup_updates=24000, end_learning_rate=0.0, power=1.0, total_num_update=500000, sample_break_mode='complete', tokens_per_sample=512, mask_prob=0.15, leave_unmasked_prob=0.1, random_token_prob=0.1, activation_fn='gelu', dropout=0.1, attention_dropout=0.1, encoder_embed_dim=1024, encoder_layers=24, encoder_attention_heads=16, encoder_ffn_embed_dim=4096, pooler_activation_fn='tanh', max_positions=512, activation_dropout=0.0, load_checkpoint_heads=True, data='/home/local/USHERBROOKE/levj1404/.cache/torch/pytorch_fairseq/83e3a689e28e5e4696ecb0bbb05a77355444a5c8a3437e0f736d8a564e80035e.c687083d14776c1979f3f71654febb42f2bb3d9a94ff7ebdfe1ac6748dba89d2', max_source_positions=512, max_target_positions=512, stop_min_lr=-1, encoder_layerdrop=0, encoder_layers_to_keep=None, quant_noise_pq=0, quant_noise_pq_block_size=8, quant_noise_scalar=0, spectral_norm_classification_head=False, min_params_to_wrap=100000000, mha_reg_scale_factor=0.0, ffn_reg_scale_factor=0.0, mha_heads_to_keep=-1, ffn_blocks_to_remove=-1, _name='roberta_large', pooler_dropout=0.0, no_token_positional_embeddings=False, encoder_learned_pos=True, layernorm_embedding=True, no_scale_embedding=True, encoder_normalize_before=False, untie_weights_roberta=False, adaptive_input=False), 'task': {'_name': 'masked_lm', 'data': '/home/local/USHERBROOKE/levj1404/.cache/torch/pytorch_fairseq/83e3a689e28e5e4696ecb0bbb05a77355444a5c8a3437e0f736d8a564e80035e.c687083d14776c1979f3f71654febb42f2bb3d9a94ff7ebdfe1ac6748dba89d2', 'sample_break_mode': 'complete', 'tokens_per_sample': 512, 'mask_prob': 0.15, 'leave_unmasked_prob': 0.1, 'random_token_prob': 0.1, 'freq_weighted_replacement': False, 'mask_whole_words': False, 'mask_multiple_length': 1, 'mask_stdev': 0.0, 'shorten_method': 'none', 'shorten_data_split_list': '', 'seed': 4, 'include_target_tokens': False, 'include_index': True, 'skip_masking': False, 'd2v2_multi': False}, 'criterion': {'_name': 'masked_lm', 'tpu': True}, 'optimizer': {'_name': 'adam', 'adam_betas': '(0.9, 0.98)', 'adam_eps': 1e-06, 'weight_decay': 0.01, 'use_old_adam': False, 'fp16_adam_stats': False, 'tpu': True, 'lr': [0.0004]}, 'lr_scheduler': {'_name': 'polynomial_decay', 'warmup_updates': 24000, 'force_anneal': None, 'end_learning_rate': 0.0, 'power': 1.0, 'total_num_update': 500000.0, 'lr': [0.0004]}, 'scoring': None, 'bpe': {'_name': 'gpt2', 'gpt2_encoder_json': 'https://dl.fbaipublicfiles.com/fairseq/gpt2_bpe/encoder.json', 'gpt2_vocab_bpe': 'https://dl.fbaipublicfiles.com/fairseq/gpt2_bpe/vocab.bpe'}, 'tokenizer': None, 'ema': {'_name': None, 'store_ema': False, 'ema_decay': 0.9999, 'ema_start_update': 0, 'ema_seed_model': None, 'ema_update_freq': 1, 'ema_fp32': False}, 'simul_type': None}\n"
     ]
    },
    {
     "data": {
      "text/plain": [
       "RobertaHubInterface(\n",
       "  (model): RobertaModel(\n",
       "    (encoder): RobertaEncoder(\n",
       "      (sentence_encoder): TransformerEncoder(\n",
       "        (dropout_module): FairseqDropout()\n",
       "        (embed_tokens): Embedding(50265, 1024, padding_idx=1)\n",
       "        (embed_positions): LearnedPositionalEmbedding(514, 1024, padding_idx=1)\n",
       "        (layernorm_embedding): LayerNorm((1024,), eps=1e-05, elementwise_affine=True)\n",
       "        (layers): ModuleList(\n",
       "          (0-23): 24 x TransformerEncoderLayerBase(\n",
       "            (self_attn): MultiheadAttention(\n",
       "              (dropout_module): FairseqDropout()\n",
       "              (k_proj): Linear(in_features=1024, out_features=1024, bias=True)\n",
       "              (v_proj): Linear(in_features=1024, out_features=1024, bias=True)\n",
       "              (q_proj): Linear(in_features=1024, out_features=1024, bias=True)\n",
       "              (out_proj): Linear(in_features=1024, out_features=1024, bias=True)\n",
       "            )\n",
       "            (self_attn_layer_norm): LayerNorm((1024,), eps=1e-05, elementwise_affine=True)\n",
       "            (dropout_module): FairseqDropout()\n",
       "            (activation_dropout_module): FairseqDropout()\n",
       "            (fc1): Linear(in_features=1024, out_features=4096, bias=True)\n",
       "            (fc2): Linear(in_features=4096, out_features=1024, bias=True)\n",
       "            (final_layer_norm): LayerNorm((1024,), eps=1e-05, elementwise_affine=True)\n",
       "          )\n",
       "        )\n",
       "      )\n",
       "      (lm_head): RobertaLMHead(\n",
       "        (dense): Linear(in_features=1024, out_features=1024, bias=True)\n",
       "        (layer_norm): LayerNorm((1024,), eps=1e-05, elementwise_affine=True)\n",
       "      )\n",
       "    )\n",
       "    (classification_heads): ModuleDict()\n",
       "  )\n",
       ")"
      ]
     },
     "execution_count": 4,
     "metadata": {},
     "output_type": "execute_result"
    }
   ],
   "source": [
    "# Load the roberta model\n",
    "roberta = torch.hub.load('pytorch/fairseq', 'roberta.large')\n",
    "roberta.eval()"
   ]
  },
  {
   "cell_type": "code",
   "execution_count": 6,
   "metadata": {},
   "outputs": [
    {
     "data": {
      "text/plain": [
       "tensor([    0, 31414,     6,   232,   328,     2])"
      ]
     },
     "execution_count": 6,
     "metadata": {},
     "output_type": "execute_result"
    }
   ],
   "source": [
    "tokens = roberta.encode(\"Hello, world!\")\n",
    "tokens"
   ]
  },
  {
   "cell_type": "code",
   "execution_count": 7,
   "metadata": {},
   "outputs": [
    {
     "data": {
      "text/plain": [
       "'Hello, world!'"
      ]
     },
     "execution_count": 7,
     "metadata": {},
     "output_type": "execute_result"
    }
   ],
   "source": [
    "roberta.decode(tokens)"
   ]
  },
  {
   "cell_type": "code",
   "execution_count": 12,
   "metadata": {},
   "outputs": [],
   "source": [
    "urls, labels = next(iter(testloader))"
   ]
  },
  {
   "cell_type": "code",
   "execution_count": 14,
   "metadata": {},
   "outputs": [
    {
     "data": {
      "text/plain": [
       "tensor([1, 0, 0, 0])"
      ]
     },
     "execution_count": 14,
     "metadata": {},
     "output_type": "execute_result"
    }
   ],
   "source": [
    "embeddings = roberta.extract_features(urls)"
   ]
  },
  {
   "cell_type": "code",
   "execution_count": null,
   "metadata": {},
   "outputs": [],
   "source": []
  }
 ],
 "metadata": {
  "kernelspec": {
   "display_name": "Python 3 (ipykernel)",
   "language": "python",
   "name": "python3"
  },
  "language_info": {
   "codemirror_mode": {
    "name": "ipython",
    "version": 3
   },
   "file_extension": ".py",
   "mimetype": "text/x-python",
   "name": "python",
   "nbconvert_exporter": "python",
   "pygments_lexer": "ipython3",
   "version": "3.10.13"
  }
 },
 "nbformat": 4,
 "nbformat_minor": 2
}
